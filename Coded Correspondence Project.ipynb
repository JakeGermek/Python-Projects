{
 "cells": [
  {
   "cell_type": "markdown",
   "id": "785d56f7-cc56-4a75-860d-e563e5ae5cb7",
   "metadata": {},
   "source": [
    "Message from Vishal"
   ]
  },
  {
   "cell_type": "markdown",
   "id": "9c83bb82-efd1-450d-95b9-5f7bb48ff82d",
   "metadata": {},
   "source": [
    "Hey there! How have you been? I've been great! I just learned about this really cool type of cipher called a Ceasr Cipher. Here's how it works: You take your message, something like \"hello\" and then you shift all of the letters by a certain offset. \n",
    "\n",
    "For examples, if I chose an offset of 3 and a message of \"hello:, I would encode my message by shifting each letter 3 places to the left with respect to the alphabet. So \"h\" becomes \"e\", \"e\" becomes \"b\", and \"l\" becomes \"i\", and \"o\" becomes \"l\". Then I have my encoded message, \"ebiil\"! Now I can send you my message and the offset and you can decode if by shifting each letter 3 places to the right. The best thing is that Julius Caesar himself used this cipher, that's why it's called the Ceasar Cipher! Isn't that so cool! Okay, now I'm going to send you a longer encoded message that you have to decode yourself!\n",
    "\n",
    "    xuo jxuhu! jxyi yi qd unqcfbu ev q squiqh syfxuh. muhu oek qrbu je tusetu yj? \n",
    "y xefu ie! iudt cu q cuiiqwu rqsa myjx jxu iqcu evviuj!\n",
    "\n",
    "This message has an offset of 10. Can you decode it?"
   ]
  },
  {
   "cell_type": "code",
   "execution_count": 2,
   "id": "1e832c77-3cf9-452c-b2cb-f934093da0b9",
   "metadata": {},
   "outputs": [],
   "source": [
    "alphabet = \"abcdefghijklmnopqrstuvwxyz\"\n",
    "\n",
    "message = \"xuo jxuhu! jxyi yi qd unqcfbu ev q squiqh syfxuh. muhu oek qrbu je tusetu yj? y xefu ie! iudt cu q cuiiqwu rqsa myjx jxu iqcu evviuj!\"\n",
    "\n",
    "translated_message = \"\"    "
   ]
  },
  {
   "cell_type": "code",
   "execution_count": 3,
   "id": "0bac3531-7858-43c4-b59c-56f3c0117b10",
   "metadata": {},
   "outputs": [],
   "source": [
    "for character in message:\n",
    "    if character in alphabet:\n",
    "        character_value = alphabet.find(character)\n",
    "        translated_message += alphabet[(character_value + 10) % 26]\n",
    "    else:\n",
    "        translated_message += character"
   ]
  },
  {
   "cell_type": "code",
   "execution_count": 4,
   "id": "2b12ca48-567e-4526-b226-13705fce86b7",
   "metadata": {},
   "outputs": [
    {
     "name": "stdout",
     "output_type": "stream",
     "text": [
      "hey there! this is an example of a caesar cipher. were you able to decode it? i hope so! send me a message back with the same offset!\n"
     ]
    }
   ],
   "source": [
    "print(translated_message)"
   ]
  },
  {
   "cell_type": "markdown",
   "id": "1e37585a-d920-459e-9eb2-efd07d4c4532",
   "metadata": {},
   "source": [
    "Going to send Vishal a message back!"
   ]
  },
  {
   "cell_type": "code",
   "execution_count": 5,
   "id": "fc6c69a4-03c1-4b9d-be30-cb69595730f1",
   "metadata": {},
   "outputs": [],
   "source": [
    "message_for_v = \"hey vishal! This is a super cool cipher, thanks for showing me. What else you got?\"\n",
    "\n",
    "translated_message_for_v = \"\""
   ]
  },
  {
   "cell_type": "code",
   "execution_count": 6,
   "id": "bc00977d-d72b-42b3-8a64-a0f11fef2a07",
   "metadata": {},
   "outputs": [],
   "source": [
    "for character in message_for_v:\n",
    "    if character in alphabet:\n",
    "        character_value = alphabet.find(character)\n",
    "        translated_message_for_v += alphabet[(character_value - 10) % 26]\n",
    "    else:\n",
    "        translated_message_for_v += character"
   ]
  },
  {
   "cell_type": "code",
   "execution_count": 7,
   "id": "286883c1-54e8-4d77-b219-3dc7681a22df",
   "metadata": {},
   "outputs": [
    {
     "name": "stdout",
     "output_type": "stream",
     "text": [
      "xuo lyixqb! Txyi yi q ikfuh seeb syfxuh, jxqdai veh ixemydw cu. Wxqj ubiu oek wej?\n"
     ]
    }
   ],
   "source": [
    "print(translated_message_for_v)"
   ]
  },
  {
   "cell_type": "markdown",
   "id": "84b34656-97c0-4f86-8438-9a975a43fc40",
   "metadata": {},
   "source": [
    "Another message from Vishal\n",
    "\n",
    "You're getting the hang of this! Okay, here are two more messages, the first one is coded just like before with an offset of ten, and it contains a hint for decoding te second message!\n",
    "\n",
    "First message: jxu evviuj veh jxu iusedt cuiiqwu yi vekhjuud.\n",
    "\n",
    "Second message: bqdradyuzs ygxfubxq omqemd oubtqde fa oapq kagd yqeemsqe ue qhqz yadq eqogdq!"
   ]
  },
  {
   "cell_type": "code",
   "execution_count": 8,
   "id": "85fc2af2-f9f7-4131-85b8-15c8527328f7",
   "metadata": {},
   "outputs": [],
   "source": [
    "def caesar_decoded(message, offset):\n",
    "    decoded_message = \"\"\n",
    "\n",
    "    for character in message:\n",
    "        if character in alphabet:\n",
    "            character_value = alphabet.find(character)\n",
    "            decoded_message += alphabet[(character_value + offset) % 26]\n",
    "        else:\n",
    "            decoded_message += character\n",
    "    return decoded_message"
   ]
  },
  {
   "cell_type": "code",
   "execution_count": 9,
   "id": "411447dc-c3b2-4750-8d50-a8ab4cd463dd",
   "metadata": {},
   "outputs": [],
   "source": [
    "def caesar_encoded(message, offset):\n",
    "    encoded_message = \"\"\n",
    "\n",
    "    for character in message:\n",
    "        if character in alphabet:\n",
    "            character_value = alphabet.find(character)\n",
    "            encoded_message += alphabet[(character_value - offset) % 26]\n",
    "        else:\n",
    "            encoded_message += character\n",
    "    return encoded_message"
   ]
  },
  {
   "cell_type": "code",
   "execution_count": 13,
   "id": "7555c6bd-e2fb-48ba-ae2d-fa7124eb20e5",
   "metadata": {},
   "outputs": [
    {
     "name": "stdout",
     "output_type": "stream",
     "text": [
      "the offset for the second message is fourteen.\n"
     ]
    }
   ],
   "source": [
    "message_one = \"jxu evviuj veh jxu iusedt cuiiqwu yi vekhjuud.\"\n",
    "\n",
    "print(caesar_decoded(message_one, 10))"
   ]
  },
  {
   "cell_type": "code",
   "execution_count": 15,
   "id": "f5ac2169-3c64-4dd0-85ac-f69dfd29e97b",
   "metadata": {},
   "outputs": [
    {
     "name": "stdout",
     "output_type": "stream",
     "text": [
      "performing multiple caesar ciphers to code your messages is even more secure!\n"
     ]
    }
   ],
   "source": [
    "message_two = \"bqdradyuzs ygxfubxq omqemd oubtqde fa oapq kagd yqeemsqe ue qhqz yadq eqogdq!\"\n",
    "\n",
    "print(caesar_decoded(message_two, 14))"
   ]
  },
  {
   "cell_type": "code",
   "execution_count": null,
   "id": "19174369-b609-482a-8f98-9bece0760ab0",
   "metadata": {},
   "outputs": [],
   "source": []
  }
 ],
 "metadata": {
  "kernelspec": {
   "display_name": "Python 3 (ipykernel)",
   "language": "python",
   "name": "python3"
  },
  "language_info": {
   "codemirror_mode": {
    "name": "ipython",
    "version": 3
   },
   "file_extension": ".py",
   "mimetype": "text/x-python",
   "name": "python",
   "nbconvert_exporter": "python",
   "pygments_lexer": "ipython3",
   "version": "3.11.7"
  }
 },
 "nbformat": 4,
 "nbformat_minor": 5
}
